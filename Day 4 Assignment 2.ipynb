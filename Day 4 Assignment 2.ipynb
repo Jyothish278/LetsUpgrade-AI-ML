{
 "cells": [
  {
   "cell_type": "markdown",
   "metadata": {},
   "source": [
    "# QUESTION 1: Research on whether addition,subtraction,multiplication,division,floor division and modulo operations be performed on complex numbers.Based on your study ,implement a python program to demonstrate these operations."
   ]
  },
  {
   "cell_type": "code",
   "execution_count": 3,
   "metadata": {},
   "outputs": [
    {
     "name": "stdout",
     "output_type": "stream",
     "text": [
      "addition of a and b = (5+4j)\n",
      "subtraction of a and b = (5+4j)\n",
      "multiplication of a and b = (5+4j)\n",
      "division of a and b = (5+4j)\n"
     ]
    },
    {
     "data": {
      "text/plain": [
       "'floor division and modulo operations cannot be performed on complex numbers'"
      ]
     },
     "execution_count": 3,
     "metadata": {},
     "output_type": "execute_result"
    }
   ],
   "source": [
    "a= 5+4j\n",
    "b= 3+3j\n",
    "c= a+b\n",
    "d= a-b\n",
    "e= a*b\n",
    "f= a/b\n",
    "print(\"addition of a and b =\",a)\n",
    "print(\"subtraction of a and b =\",a)\n",
    "print(\"multiplication of a and b =\",a)\n",
    "print(\"division of a and b =\",a)\n",
    "\n",
    "\"\"\"floor division and modulo operations cannot be performed on complex numbers\"\"\"\n"
   ]
  },
  {
   "cell_type": "markdown",
   "metadata": {},
   "source": [
    "# Question 2: Research on range() functions and its parameters.Create a markdown cell and write in your own words what you understand about it. Implent a small program on the same."
   ]
  },
  {
   "cell_type": "markdown",
   "metadata": {},
   "source": [
    "**Range() functions returns a sequence of numbers,it starts from zero by default and also by default increments 1 and stops before  the specified number.**"
   ]
  },
  {
   "cell_type": "code",
   "execution_count": 9,
   "metadata": {},
   "outputs": [
    {
     "name": "stdout",
     "output_type": "stream",
     "text": [
      "10\n",
      "11\n",
      "12\n",
      "13\n",
      "14\n",
      "15\n",
      "16\n",
      "17\n"
     ]
    }
   ],
   "source": [
    "x = range(10,18)\n",
    "for i in x:\n",
    "    print(i)"
   ]
  },
  {
   "cell_type": "markdown",
   "metadata": {},
   "source": [
    "# Question 3: Consider two numbers. Perform their subtraction and if the resut of their subtraction is greater than 25.Print their multiplication result else print their division result."
   ]
  },
  {
   "cell_type": "code",
   "execution_count": 10,
   "metadata": {},
   "outputs": [
    {
     "name": "stdout",
     "output_type": "stream",
     "text": [
      "2.0\n"
     ]
    }
   ],
   "source": [
    "a= 10\n",
    "b = 5\n",
    "c=a-b\n",
    "if c>25:\n",
    "    print(a*b)\n",
    "else:\n",
    "    print(a/b)"
   ]
  },
  {
   "cell_type": "markdown",
   "metadata": {},
   "source": [
    "# Question 4: Consider a list of 10 elements of integer values. If the number in the list is divisible by 2, print the result as \"square of that number minus 2\"."
   ]
  },
  {
   "cell_type": "code",
   "execution_count": 11,
   "metadata": {},
   "outputs": [
    {
     "name": "stdout",
     "output_type": "stream",
     "text": [
      "2\n",
      "14\n",
      "34\n",
      "62\n",
      "98\n"
     ]
    }
   ],
   "source": [
    "n=[1,2,3,4,5,6,7,8,9,10]\n",
    "for i in n:\n",
    "    if i%2==0:\n",
    "        print(i**2-2)"
   ]
  },
  {
   "cell_type": "markdown",
   "metadata": {},
   "source": [
    "# Question 5: Consider a list of 10 elements.Print all the elements in the list which are greater than 7 when that number is divided by 2."
   ]
  },
  {
   "cell_type": "code",
   "execution_count": 12,
   "metadata": {},
   "outputs": [
    {
     "name": "stdout",
     "output_type": "stream",
     "text": [
      "15\n",
      "16\n",
      "17\n",
      "18\n",
      "19\n",
      "20\n"
     ]
    }
   ],
   "source": [
    "n=[10,11,12,13,14,15,16,17,18,19,20]\n",
    "for i in n:\n",
    "    if i/2>7:\n",
    "        print(i)"
   ]
  }
 ],
 "metadata": {
  "kernelspec": {
   "display_name": "Python 3",
   "language": "python",
   "name": "python3"
  },
  "language_info": {
   "codemirror_mode": {
    "name": "ipython",
    "version": 3
   },
   "file_extension": ".py",
   "mimetype": "text/x-python",
   "name": "python",
   "nbconvert_exporter": "python",
   "pygments_lexer": "ipython3",
   "version": "3.7.6"
  }
 },
 "nbformat": 4,
 "nbformat_minor": 4
}
