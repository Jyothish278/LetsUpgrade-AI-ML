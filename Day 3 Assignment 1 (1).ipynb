{
 "cells": [
  {
   "cell_type": "markdown",
   "metadata": {},
   "source": [
    "# question 1: program to subtract two complex numbers in python"
   ]
  },
  {
   "cell_type": "code",
   "execution_count": 2,
   "metadata": {},
   "outputs": [
    {
     "name": "stdout",
     "output_type": "stream",
     "text": [
      "subtraction of a and b is = 0.9900000000000002j\n"
     ]
    }
   ],
   "source": [
    "a=2.14j\n",
    "b=1.15j\n",
    "c=a-b\n",
    "print(\"subtraction of a and b is =\",c)\n"
   ]
  },
  {
   "cell_type": "markdown",
   "metadata": {},
   "source": [
    "# question 2: program to find the fourth root of a number "
   ]
  },
  {
   "cell_type": "code",
   "execution_count": 11,
   "metadata": {},
   "outputs": [
    {
     "name": "stdout",
     "output_type": "stream",
     "text": [
      "fourth root of a = 16.0\n"
     ]
    }
   ],
   "source": [
    "a= 2**(4.0)\n",
    "print(\"fourth root of a =\",a)"
   ]
  },
  {
   "cell_type": "markdown",
   "metadata": {},
   "source": [
    "# question 3: program to swap two numbers with the help of a temporary variable"
   ]
  },
  {
   "cell_type": "code",
   "execution_count": 4,
   "metadata": {},
   "outputs": [
    {
     "name": "stdout",
     "output_type": "stream",
     "text": [
      "enter the value for a =3\n",
      "enter the value for b =4\n",
      "after swapping\n",
      "value of a = 4\n",
      "value of b = 3\n"
     ]
    }
   ],
   "source": [
    "a=int(input(\"enter the value for a =\"))\n",
    "b=int(input(\"enter the value for b =\"))\n",
    "temp=a\n",
    "a=b\n",
    "b=temp\n",
    "print(\"after swapping\")\n",
    "print(\"value of a =\",a)\n",
    "print(\"value of b =\",b)"
   ]
  },
  {
   "cell_type": "markdown",
   "metadata": {},
   "source": [
    "# question 4: program to swap two numbers without temporary variable"
   ]
  },
  {
   "cell_type": "code",
   "execution_count": 12,
   "metadata": {},
   "outputs": [
    {
     "name": "stdout",
     "output_type": "stream",
     "text": [
      "enter the value for a =4\n",
      "enter the value for b =5\n",
      "after swapping\n",
      "value of a = 5\n",
      "value of b = 4\n"
     ]
    }
   ],
   "source": [
    "a=int(input(\"enter the value for a =\"))\n",
    "b=int(input(\"enter the value for b =\"))\n",
    "a= a+b\n",
    "b= a-b\n",
    "a= a-b\n",
    "print(\"after swapping\")\n",
    "print(\"value of a =\",a)\n",
    "print(\"value of b =\",b)"
   ]
  },
  {
   "cell_type": "markdown",
   "metadata": {},
   "source": [
    "# question 5: program to convert fahrenheit to kelvin and celsius"
   ]
  },
  {
   "cell_type": "code",
   "execution_count": 13,
   "metadata": {},
   "outputs": [
    {
     "name": "stdout",
     "output_type": "stream",
     "text": [
      "enter the temperature in fahrenheit =68\n",
      "temperature in kelvin is = 293.15000000000003\n",
      "temperature in celcius is = 20.0\n"
     ]
    }
   ],
   "source": [
    "fah=float(input(\"enter the temperature in fahrenheit =\"))\n",
    "kel=(fah+459.67)/1.8\n",
    "cel=(fah-32)/1.8\n",
    "print(\"temperature in kelvin is =\",kel)\n",
    "print(\"temperature in celcius is =\",cel)"
   ]
  },
  {
   "cell_type": "markdown",
   "metadata": {},
   "source": [
    "# question 6: program to demonstrate all available datatypes in python"
   ]
  },
  {
   "cell_type": "code",
   "execution_count": 8,
   "metadata": {},
   "outputs": [
    {
     "name": "stdout",
     "output_type": "stream",
     "text": [
      "<class 'int'>\n",
      "<class 'float'>\n",
      "<class 'tuple'>\n",
      "<class 'str'>\n",
      "<class 'complex'>\n"
     ]
    }
   ],
   "source": [
    "a= 10\n",
    "b= 1.5\n",
    "c= 1,0,0\n",
    "d= \"lets upgrade\"\n",
    "e= 1+23j\n",
    "print(type(a))\n",
    "print(type(b))\n",
    "print(type(c))\n",
    "print(type(d))\n",
    "print(type(e))"
   ]
  },
  {
   "cell_type": "markdown",
   "metadata": {},
   "source": [
    "# question 7: steps discussed in the session to create github profile and upload githubs assignment link"
   ]
  },
  {
   "cell_type": "markdown",
   "metadata": {},
   "source": [
    "**step 1** : sign up for github\n",
    "**step 2** : create a repository\n",
    "**step 3** : click on the upload an existing file \n",
    "**step 4** : drag and drop the folder that need to be uploaded in the github and click on commit changes\n",
    "**step 5** : copy the URL link that will be provided in github\n",
    "**step 6** : use the URL in the link provided by the letsupgrade team."
   ]
  },
  {
   "cell_type": "code",
   "execution_count": null,
   "metadata": {},
   "outputs": [],
   "source": []
  }
 ],
 "metadata": {
  "kernelspec": {
   "display_name": "Python 3",
   "language": "python",
   "name": "python3"
  },
  "language_info": {
   "codemirror_mode": {
    "name": "ipython",
    "version": 3
   },
   "file_extension": ".py",
   "mimetype": "text/x-python",
   "name": "python",
   "nbconvert_exporter": "python",
   "pygments_lexer": "ipython3",
   "version": "3.7.6"
  }
 },
 "nbformat": 4,
 "nbformat_minor": 4
}
