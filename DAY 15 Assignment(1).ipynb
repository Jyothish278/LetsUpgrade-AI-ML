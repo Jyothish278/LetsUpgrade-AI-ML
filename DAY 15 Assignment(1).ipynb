{
 "cells": [
  {
   "cell_type": "markdown",
   "metadata": {},
   "source": [
    "# 1. Create a 3x3x3 array with random values "
   ]
  },
  {
   "cell_type": "code",
   "execution_count": 11,
   "metadata": {},
   "outputs": [
    {
     "name": "stdout",
     "output_type": "stream",
     "text": [
      "[[[0.72746928 0.03063946 0.55441925]\n",
      "  [0.08598513 0.72567547 0.60667131]\n",
      "  [0.1425436  0.39836654 0.00811185]]\n",
      "\n",
      " [[0.79532119 0.79586406 0.31967266]\n",
      "  [0.45491868 0.67769103 0.22062866]\n",
      "  [0.9135298  0.784521   0.42712454]]\n",
      "\n",
      " [[0.98540264 0.76832343 0.72583317]\n",
      "  [0.04765927 0.90779493 0.49872142]\n",
      "  [0.6860576  0.96592613 0.33701821]]]\n"
     ]
    }
   ],
   "source": [
    "import numpy as np\n",
    "arr=np.random.random((3,3,3))\n",
    "print(arr)"
   ]
  },
  {
   "cell_type": "markdown",
   "metadata": {},
   "source": [
    "# 2.Create a 5x5 matrix with values 1,2,3,4 just below the diagonal"
   ]
  },
  {
   "cell_type": "code",
   "execution_count": 68,
   "metadata": {},
   "outputs": [
    {
     "name": "stdout",
     "output_type": "stream",
     "text": [
      "[[1. 0. 0. 0. 0.]\n",
      " [1. 1. 0. 0. 0.]\n",
      " [1. 2. 1. 0. 0.]\n",
      " [1. 2. 3. 1. 0.]\n",
      " [1. 2. 3. 4. 1.]]\n"
     ]
    }
   ],
   "source": [
    "\n",
    "arr1=np.eye(5,5)\n",
    "arr1[1:,0]=1\n",
    "arr1[2:,1]=2\n",
    "arr1[3:,2]=3\n",
    "arr1[4:,3]=4\n",
    "print(arr1)"
   ]
  },
  {
   "cell_type": "markdown",
   "metadata": {},
   "source": [
    "# 3.Create a 8x8 matrix and fill it with a checkerboard pattern"
   ]
  },
  {
   "cell_type": "code",
   "execution_count": 45,
   "metadata": {},
   "outputs": [
    {
     "name": "stdout",
     "output_type": "stream",
     "text": [
      "[[0. 1. 0. 1. 0. 1. 0. 1.]\n",
      " [1. 0. 1. 0. 1. 0. 1. 0.]\n",
      " [0. 1. 0. 1. 0. 1. 0. 1.]\n",
      " [1. 0. 1. 0. 1. 0. 1. 0.]\n",
      " [0. 1. 0. 1. 0. 1. 0. 1.]\n",
      " [1. 0. 1. 0. 1. 0. 1. 0.]\n",
      " [0. 1. 0. 1. 0. 1. 0. 1.]\n",
      " [1. 0. 1. 0. 1. 0. 1. 0.]]\n"
     ]
    }
   ],
   "source": [
    "arr2=np.zeros((8,8))\n",
    "arr2[1::2,::2]=1\n",
    "arr2[::2,1::2]=1\n",
    "print(arr2)"
   ]
  },
  {
   "cell_type": "markdown",
   "metadata": {},
   "source": [
    "# 4. Normalize a 5x5 random matrix"
   ]
  },
  {
   "cell_type": "code",
   "execution_count": 71,
   "metadata": {},
   "outputs": [
    {
     "name": "stdout",
     "output_type": "stream",
     "text": [
      "original array:\n",
      "[[0.66572218 0.20275399 0.25939843 0.82447633 0.67889669]\n",
      " [0.1284138  0.95745676 0.29377797 0.18479574 0.65411462]\n",
      " [0.22109493 0.33650611 0.57097801 0.97339574 0.26901542]\n",
      " [0.61080076 0.96895027 0.70186459 0.47870678 0.9026347 ]\n",
      " [0.4777267  0.50548155 0.52128683 0.72669623 0.37496428]]\n",
      "after normalizatin:\n",
      "[[0.6358815  0.08797844 0.15501472 0.82376025 0.65147297]\n",
      " [0.         0.9811369  0.19570143 0.06672562 0.62214445]\n",
      " [0.10968416 0.24626836 0.52375582 1.         0.16639601]\n",
      " [0.57088434 0.99473898 0.67865449 0.41455677 0.91625734]\n",
      " [0.41339689 0.44624356 0.46494844 0.70804168 0.29178196]]\n"
     ]
    }
   ],
   "source": [
    "x=np.random.random((5,5))\n",
    "print(\"original array:\")\n",
    "print(x)\n",
    "xmax,xmin=x.max(),x.min()\n",
    "x=(x-xmin)/(xmax-xmin)\n",
    "print(\"after normalizatin:\")\n",
    "print(x)"
   ]
  },
  {
   "cell_type": "markdown",
   "metadata": {},
   "source": [
    "# 5.  How to find common values between two arrays?"
   ]
  },
  {
   "cell_type": "code",
   "execution_count": 74,
   "metadata": {},
   "outputs": [
    {
     "name": "stdout",
     "output_type": "stream",
     "text": [
      "[1 2 3 4]\n",
      "[5 2 3 7]\n",
      "[2 3]\n"
     ]
    }
   ],
   "source": [
    "arr4=np.array([1,2,3,4])\n",
    "print(arr4)\n",
    "arr5=np.array([5,2,3,7])\n",
    "print(arr5)\n",
    "print(np.intersect1d(arr4,arr5))\n",
    "\n"
   ]
  },
  {
   "cell_type": "markdown",
   "metadata": {},
   "source": [
    "# 6.How to get the dates of yesterday, today and tomorrow?"
   ]
  },
  {
   "cell_type": "code",
   "execution_count": 82,
   "metadata": {},
   "outputs": [
    {
     "name": "stdout",
     "output_type": "stream",
     "text": [
      "Yesterday= 2020-07-24\n",
      "Today= 2020-07-25\n",
      "Tomorrow= 2020-07-26\n"
     ]
    }
   ],
   "source": [
    "import numpy as np\n",
    "yesterday=np.datetime64('today')-np.timedelta64(1)\n",
    "print(\"Yesterday=\",yesterday)\n",
    "today=np.datetime64('today')\n",
    "print(\"Today=\",today) \n",
    "tomorrow=np.datetime64('today')+np.timedelta64(1)\n",
    "print(\"Tomorrow=\",tomorrow)                       "
   ]
  },
  {
   "cell_type": "markdown",
   "metadata": {},
   "source": [
    "# 7. Consider two random array A and B, check if they are equal"
   ]
  },
  {
   "cell_type": "code",
   "execution_count": 85,
   "metadata": {},
   "outputs": [
    {
     "name": "stdout",
     "output_type": "stream",
     "text": [
      "[0 0 1 0 0 1]\n",
      "[0 1 0 1 1 0]\n",
      "False\n"
     ]
    }
   ],
   "source": [
    "arr4=np.random.randint(0,2,6)\n",
    "print(arr4)\n",
    "arr5=np.random.randint(0,2,6)\n",
    "print(arr5)\n",
    "array_equal=np.allclose(arr4,arr5)\n",
    "print(array_equal)"
   ]
  },
  {
   "cell_type": "markdown",
   "metadata": {},
   "source": [
    "# 8.Create random vector of size 10 and replace the maximum value by 0 "
   ]
  },
  {
   "cell_type": "code",
   "execution_count": 87,
   "metadata": {},
   "outputs": [
    {
     "name": "stdout",
     "output_type": "stream",
     "text": [
      "original array:\n",
      "[0.60078901 0.49819394 0.99773751 0.12507948 0.38972835 0.0303531\n",
      " 0.09119668 0.9998607  0.19926842 0.02328607]\n",
      "after max value replaced by 0:\n",
      "[0.60078901 0.49819394 0.99773751 0.12507948 0.38972835 0.0303531\n",
      " 0.09119668 0.         0.19926842 0.02328607]\n"
     ]
    }
   ],
   "source": [
    "y=np.random.random(10)\n",
    "print('original array:')\n",
    "print(y)\n",
    "y[y.argmax()]=0\n",
    "print(\"after max value replaced by 0:\")\n",
    "print(y)"
   ]
  },
  {
   "cell_type": "markdown",
   "metadata": {},
   "source": [
    "# 9. How to print all the values of an array?"
   ]
  },
  {
   "cell_type": "code",
   "execution_count": 88,
   "metadata": {},
   "outputs": [
    {
     "name": "stdout",
     "output_type": "stream",
     "text": [
      "[[0. 0. 0. 0.]\n",
      " [0. 0. 0. 0.]\n",
      " [0. 0. 0. 0.]\n",
      " [0. 0. 0. 0.]]\n"
     ]
    }
   ],
   "source": [
    "z=np.zeros((4,4))\n",
    "print(z)\n"
   ]
  },
  {
   "cell_type": "markdown",
   "metadata": {},
   "source": [
    "# 10.Subtract the mean of each row of a matrix"
   ]
  },
  {
   "cell_type": "code",
   "execution_count": 98,
   "metadata": {},
   "outputs": [
    {
     "name": "stdout",
     "output_type": "stream",
     "text": [
      "before subtraction:\n",
      "[[1 2 3 4]\n",
      " [5 6 7 8]\n",
      " [1 3 4 5]]\n",
      "after subtraction:\n",
      "[[-1.5  -0.5   0.5   1.5 ]\n",
      " [-1.5  -0.5   0.5   1.5 ]\n",
      " [-2.25 -0.25  0.75  1.75]]\n"
     ]
    }
   ],
   "source": [
    "s=np.array([[1,2,3,4],[5,6,7,8],[1,3,4,5]])\n",
    "print(\"before subtraction:\")\n",
    "print(s)\n",
    "t=s-s.mean(axis=1,keepdims=True)\n",
    "print(\"after subtraction:\")\n",
    "print(t)"
   ]
  },
  {
   "cell_type": "markdown",
   "metadata": {},
   "source": [
    "# 11.Consider a given vector, how to add 1 to each element indexed by a second vector (be careful with repeated indices)? "
   ]
  },
  {
   "cell_type": "code",
   "execution_count": 110,
   "metadata": {},
   "outputs": [
    {
     "name": "stdout",
     "output_type": "stream",
     "text": [
      "[1 2 4 5 6 7 8 9]\n"
     ]
    }
   ],
   "source": [
    "b=np.array([1,2,3,4,5,6,7,8])\n",
    "b[2:]+=1\n",
    "print(b)"
   ]
  },
  {
   "cell_type": "markdown",
   "metadata": {},
   "source": [
    "# 12.How to get the diagonal of a dot product?"
   ]
  },
  {
   "cell_type": "code",
   "execution_count": 122,
   "metadata": {},
   "outputs": [
    {
     "name": "stdout",
     "output_type": "stream",
     "text": [
      "[19 50]\n"
     ]
    }
   ],
   "source": [
    "c=np.array([[1,2],[3,4]])\n",
    "d=np.array([[5,6],[7,8]])\n",
    "e=np.diagonal(c.dot(d))\n",
    "print(e)"
   ]
  },
  {
   "cell_type": "markdown",
   "metadata": {},
   "source": [
    "# 13.How to find the most frequent value in an array?"
   ]
  },
  {
   "cell_type": "code",
   "execution_count": 124,
   "metadata": {},
   "outputs": [
    {
     "name": "stdout",
     "output_type": "stream",
     "text": [
      "[1 2 1 4 1 5 1 6]\n",
      "most frequent value in the array:\n",
      "1\n"
     ]
    }
   ],
   "source": [
    "f=np.array([1,2,1,4,1,5,1,6])\n",
    "print(f)\n",
    "print(\"most frequent value in the array:\")\n",
    "print(np.bincount(f).argmax())"
   ]
  },
  {
   "cell_type": "markdown",
   "metadata": {},
   "source": [
    "# 14.How to get the n largest values of an array"
   ]
  },
  {
   "cell_type": "code",
   "execution_count": 117,
   "metadata": {},
   "outputs": [
    {
     "name": "stdout",
     "output_type": "stream",
     "text": [
      "[1 2 3 4 5 6 7 8]\n",
      "[8]\n"
     ]
    }
   ],
   "source": [
    "w=np.array([1,2,3,4,5,6,7,8])\n",
    "print(w)\n",
    "n=1\n",
    "print(w[np.argsort(w)[-n:]])"
   ]
  },
  {
   "cell_type": "markdown",
   "metadata": {},
   "source": [
    "# 15.How to create a record array from a regular array?"
   ]
  },
  {
   "cell_type": "code",
   "execution_count": 120,
   "metadata": {},
   "outputs": [
    {
     "name": "stdout",
     "output_type": "stream",
     "text": [
      "('red', 1)\n",
      "('blue', 2)\n",
      "('green', 3)\n"
     ]
    }
   ],
   "source": [
    "ar=np.array(['red','blue','green'])\n",
    "ar1=np.array([1,2,3])\n",
    "result=np.core.records.fromarrays([ar,ar1])\n",
    "print(result[0])\n",
    "print(result[1])\n",
    "print(result[2])"
   ]
  }
 ],
 "metadata": {
  "kernelspec": {
   "display_name": "Python 3",
   "language": "python",
   "name": "python3"
  },
  "language_info": {
   "codemirror_mode": {
    "name": "ipython",
    "version": 3
   },
   "file_extension": ".py",
   "mimetype": "text/x-python",
   "name": "python",
   "nbconvert_exporter": "python",
   "pygments_lexer": "ipython3",
   "version": "3.7.6"
  }
 },
 "nbformat": 4,
 "nbformat_minor": 2
}
