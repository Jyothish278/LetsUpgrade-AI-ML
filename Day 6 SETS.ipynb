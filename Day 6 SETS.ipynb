{
 "cells": [
  {
   "cell_type": "markdown",
   "metadata": {},
   "source": [
    " # Create your own jupiter notebook for sets."
   ]
  },
  {
   "cell_type": "markdown",
   "metadata": {},
   "source": [
    " # Sets\n",
    "A set is a collection which is unordered and unindexed.In python sets are written in curly brackets."
   ]
  },
  {
   "cell_type": "code",
   "execution_count": 1,
   "metadata": {},
   "outputs": [
    {
     "name": "stdout",
     "output_type": "stream",
     "text": [
      "{1, 2, 3, 4}\n",
      "<class 'set'>\n"
     ]
    }
   ],
   "source": [
    "#example\n",
    "s1={1,2,3,4}\n",
    "print(s1)\n",
    "print(type(s1))"
   ]
  },
  {
   "cell_type": "code",
   "execution_count": 10,
   "metadata": {},
   "outputs": [
    {
     "name": "stdout",
     "output_type": "stream",
     "text": [
      "{'ML', 'AI', 'LU'}\n"
     ]
    }
   ],
   "source": [
    "#sets using for loop\n",
    "s1={\"AI\",\"ML\",\"LU\"}\n",
    "for i in s1:\n",
    "    print(s1)\n",
    "    break\n",
    "\n",
    "    "
   ]
  },
  {
   "cell_type": "code",
   "execution_count": 11,
   "metadata": {},
   "outputs": [
    {
     "name": "stdout",
     "output_type": "stream",
     "text": [
      "True\n"
     ]
    }
   ],
   "source": [
    "#AI is present in the list\n",
    "s1={\"AI\",\"ML\",\"LU\"}\n",
    "print(\"AI\" in s1)"
   ]
  },
  {
   "cell_type": "code",
   "execution_count": 12,
   "metadata": {},
   "outputs": [
    {
     "name": "stdout",
     "output_type": "stream",
     "text": [
      "{'Trainer', 'ML', 'AI', 'LU'}\n"
     ]
    }
   ],
   "source": [
    "#Add items to set\n",
    "s1={\"AI\",\"ML\",\"LU\"}\n",
    "s1.add(\"Trainer\")\n",
    "print(s1)"
   ]
  },
  {
   "cell_type": "code",
   "execution_count": 14,
   "metadata": {},
   "outputs": [
    {
     "name": "stdout",
     "output_type": "stream",
     "text": [
      "{'hello', 'LU', 'world', 'AI', 'ML'}\n"
     ]
    }
   ],
   "source": [
    "#update items in set\n",
    "s1={\"AI\",\"ML\",\"LU\"}\n",
    "s1.update([\"hello\",\"world\"])\n",
    "print(s1)"
   ]
  },
  {
   "cell_type": "code",
   "execution_count": 15,
   "metadata": {},
   "outputs": [
    {
     "name": "stdout",
     "output_type": "stream",
     "text": [
      "3\n"
     ]
    }
   ],
   "source": [
    "#to find length\n",
    "s1={\"AI\",\"ML\",\"LU\"}\n",
    "print(len(s1))"
   ]
  }
 ],
 "metadata": {
  "kernelspec": {
   "display_name": "Python 3",
   "language": "python",
   "name": "python3"
  },
  "language_info": {
   "codemirror_mode": {
    "name": "ipython",
    "version": 3
   },
   "file_extension": ".py",
   "mimetype": "text/x-python",
   "name": "python",
   "nbconvert_exporter": "python",
   "pygments_lexer": "ipython3",
   "version": "3.7.6"
  }
 },
 "nbformat": 4,
 "nbformat_minor": 4
}
