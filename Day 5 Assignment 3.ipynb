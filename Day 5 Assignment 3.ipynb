{
 "cells": [
  {
   "cell_type": "markdown",
   "metadata": {},
   "source": [
    "# Question 1: Write a python program to find the first 20 non-even prime natural numbers."
   ]
  },
  {
   "cell_type": "code",
   "execution_count": 4,
   "metadata": {},
   "outputs": [
    {
     "name": "stdout",
     "output_type": "stream",
     "text": [
      "3\n",
      "5\n",
      "7\n",
      "11\n",
      "13\n",
      "17\n",
      "19\n"
     ]
    }
   ],
   "source": [
    "n=20\n",
    "for num in range(1,n):\n",
    "    if num>1:\n",
    "        if num%2==0:\n",
    "            continue\n",
    "        for i in range(2,num):\n",
    "            if(num%i)==0:\n",
    "                break\n",
    "        else:\n",
    "            print(num)"
   ]
  },
  {
   "cell_type": "markdown",
   "metadata": {},
   "source": [
    "# Question 2: Write a python program to implement 15 functions of string."
   ]
  },
  {
   "cell_type": "code",
   "execution_count": 40,
   "metadata": {},
   "outputs": [
    {
     "name": "stdout",
     "output_type": "stream",
     "text": [
      "lETS uPGRADE\n",
      "lets upgrade\n",
      "1\n",
      "True\n",
      "lets upgrade\n",
      "LETS UPGRADE\n",
      "False\n",
      "True\n",
      "False\n",
      "False\n",
      "False\n",
      "False\n",
      "False\n",
      "5\n",
      "Luts Upgradu\n"
     ]
    }
   ],
   "source": [
    "str=\"Lets Upgrade\"\n",
    "print(str.swapcase())\n",
    "print(str.casefold())\n",
    "print(str.count(\"Upgrade\"))\n",
    "print(str.endswith(\"e\"))\n",
    "print(str.lower())\n",
    "print(str.upper())\n",
    "print(str.isspace())\n",
    "print(str.isprintable())\n",
    "print(str.isnumeric())\n",
    "print(str.isidentifier())\n",
    "print(str.isdecimal())\n",
    "print(str.isalpha())\n",
    "print(str.isalnum())\n",
    "print(str.index(\"Upgrade\"))\n",
    "print(str.replace(\"e\",\"u\"))"
   ]
  },
  {
   "cell_type": "markdown",
   "metadata": {},
   "source": [
    "# Question 3: Write a python program to check if the given string is palindrome or anagram or none of them.display the message according to the user."
   ]
  },
  {
   "cell_type": "code",
   "execution_count": 41,
   "metadata": {},
   "outputs": [
    {
     "name": "stdout",
     "output_type": "stream",
     "text": [
      "enter the first string:rotor\n",
      "enter the second string:rotor\n",
      "rotor is palindrome\n",
      "the strings are anagram.\n"
     ]
    }
   ],
   "source": [
    "s1=input(\"enter the first string:\")\n",
    "s2=input(\"enter the second string:\")\n",
    "if s1==s2[::-1]:\n",
    "    print(s1,\"is palindrome\")\n",
    "if(sorted(s1)==sorted(s2)):\n",
    "    print(\"the strings are anagram.\")\n",
    "else:\n",
    "    print(\"the strings are not anagram.\")"
   ]
  },
  {
   "cell_type": "markdown",
   "metadata": {},
   "source": [
    "# Question 4: Write a python user defined function that removes all the additional characters from the string and converts it finally to lower case using built-in lower()."
   ]
  },
  {
   "cell_type": "code",
   "execution_count": 12,
   "metadata": {},
   "outputs": [
    {
     "name": "stdout",
     "output_type": "stream",
     "text": [
      "enter string:JYOTHISH K@AI-ML LEARNER\n",
      "jyothishkaimllearner"
     ]
    }
   ],
   "source": [
    "str=input(\"enter string:\")\n",
    "for i in str:\n",
    "    if i.isalnum():\n",
    "        print(i.lower(),end=\"\")"
   ]
  }
 ],
 "metadata": {
  "kernelspec": {
   "display_name": "Python 3",
   "language": "python",
   "name": "python3"
  },
  "language_info": {
   "codemirror_mode": {
    "name": "ipython",
    "version": 3
   },
   "file_extension": ".py",
   "mimetype": "text/x-python",
   "name": "python",
   "nbconvert_exporter": "python",
   "pygments_lexer": "ipython3",
   "version": "3.7.6"
  }
 },
 "nbformat": 4,
 "nbformat_minor": 4
}
