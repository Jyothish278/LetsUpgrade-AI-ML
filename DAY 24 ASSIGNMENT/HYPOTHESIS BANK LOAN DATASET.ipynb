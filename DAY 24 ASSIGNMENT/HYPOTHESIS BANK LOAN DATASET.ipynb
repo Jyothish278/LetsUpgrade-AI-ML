{
 "cells": [
  {
   "cell_type": "markdown",
   "metadata": {},
   "source": [
    "# HYPOTHESIS BANK LOAN DATASET\n",
    "\n",
    "1) If the Income is greater than 113.5 and the CCAvg is greater than 2.95 then personal loan is granted.<br/>\n",
    "2) If the Income is less than 82.5 and the Education is less than 1.5 then personal loan is not granted.<br/>\n",
    "3) If the Income is less than 113.5 and the CCAvg is less than 2.95 then personal loan is not granted.<br/>\n",
    "4) If the Income is less than 82.5 and the CCAvg is less than 3.45 then personal loan is not granted.<br/>\n",
    "5) If the Income is greater than 113.5 and the Education is greater than 1.5 then personal loan is granted.<br/>"
   ]
  }
 ],
 "metadata": {
  "kernelspec": {
   "display_name": "Python 3",
   "language": "python",
   "name": "python3"
  },
  "language_info": {
   "codemirror_mode": {
    "name": "ipython",
    "version": 3
   },
   "file_extension": ".py",
   "mimetype": "text/x-python",
   "name": "python",
   "nbconvert_exporter": "python",
   "pygments_lexer": "ipython3",
   "version": "3.7.6"
  }
 },
 "nbformat": 4,
 "nbformat_minor": 4
}
