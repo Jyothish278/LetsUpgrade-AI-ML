{
 "cells": [
  {
   "cell_type": "markdown",
   "metadata": {},
   "source": [
    "# HYPTHESIS FOR ATTRITION DATASET\n",
    "\n",
    "\n",
    "1) If the Age is more than 21.5 and the DistanceFromHome is greater than 24.5 then Attrition is yes.<br/>\n",
    "2) If the Age is more than 26.5 and the PercentSalaryHike is less than 19.5 then Attrition is yes.<br/>\n",
    "3) If the PercentSalaryHike is less than 11.5 and the DistanceFromHome is greater than 21.5 then Attrition is yes.<br/>\n",
    "4) If the Gender is 0 and the DistanceFromHome is greater than 5.5 then Attrition is yes.<br/>\n",
    "5) If the PercentSalaryHike is less than 11.5 and the DistanceFromHome is greater than 21.5 then Attrition is yes.<br/>\n",
    "6) If the Gender is 1 and the PercentSalaryHike is less than 15.5 then Attrition is yes.<br/>\n",
    "7) If the Age is less than 27 and the PercentSalaryHike is less 11.5 than 21.5 then Attrition is yes.<br/>"
   ]
  }
 ],
 "metadata": {
  "kernelspec": {
   "display_name": "Python 3",
   "language": "python",
   "name": "python3"
  },
  "language_info": {
   "codemirror_mode": {
    "name": "ipython",
    "version": 3
   },
   "file_extension": ".py",
   "mimetype": "text/x-python",
   "name": "python",
   "nbconvert_exporter": "python",
   "pygments_lexer": "ipython3",
   "version": "3.7.6"
  }
 },
 "nbformat": 4,
 "nbformat_minor": 4
}
